{
 "cells": [
  {
   "attachments": {},
   "cell_type": "markdown",
   "metadata": {},
   "source": [
    "## Домашнее задание №7\n",
    "\n",
    "##### Автор: [Радослав Нейчев](https://www.linkedin.com/in/radoslav-neychev/), @neychev"
   ]
  },
  {
   "cell_type": "code",
   "execution_count": 1,
   "metadata": {},
   "outputs": [],
   "source": [
    "import numpy as np\n",
    "\n",
    "import torch\n",
    "from torch import nn\n",
    "from torch.nn import functional as F\n",
    "import torch_directml\n",
    "\n",
    "import torchvision\n",
    "from torchvision.datasets import MNIST\n",
    "\n",
    "import argparse\n",
    "from matplotlib import pyplot as plt\n",
    "from IPython.display import clear_output"
   ]
  },
  {
   "attachments": {},
   "cell_type": "markdown",
   "metadata": {},
   "source": [
    "### Задача №1: \n",
    "Обратимся к классической задаче распознавания рукописных цифр. Мы будем работать с набором данных [MNIST](http://yann.lecun.com/exdb/mnist/). В данном задании воспользуемся всем датасетом целиком.\n",
    "\n",
    "__Ваша основная задача: реализовать весь пайплан обучения модели и добиться качества $\\geq 92\\%$ на тестовой выборке.__\n",
    "\n",
    "Код для обучения модели в данном задании отсутствует. Присутствует лишь несколько тестов, которые помогут вам отладить свое решение. За примером можно обратиться к ноутбуку первого занятия.\n",
    "\n",
    "Настоятельно рекомендуем написать код \"с нуля\", лишь поглядывая на готовые примеры, а не просто \"скопировать-вставить\". Это поможет вам в дальнейшем."
   ]
  },
  {
   "cell_type": "code",
   "execution_count": 2,
   "metadata": {},
   "outputs": [
    {
     "data": {
      "text/plain": [
       "Text(0.5, 1.0, 'Image label: 8')"
      ]
     },
     "execution_count": 2,
     "metadata": {},
     "output_type": "execute_result"
    },
    {
     "data": {
      "image/png": "[encoded data removed]",
      "text/plain": [
       "<Figure size 640x480 with 1 Axes>"
      ]
     },
     "metadata": {},
     "output_type": "display_data"
    }
   ],
   "source": [
    "# do not change the code in the block below\n",
    "# __________start of block__________\n",
    "\n",
    "train_mnist_data = MNIST('.', train=True, transform=torchvision.transforms.ToTensor(), download=True)\n",
    "test_mnist_data = MNIST('.', train=False, transform=torchvision.transforms.ToTensor(), download=True)\n",
    "\n",
    "\n",
    "train_data_loader = torch.utils.data.DataLoader(\n",
    "    train_mnist_data,\n",
    "    batch_size=32,\n",
    "    shuffle=True,\n",
    "    num_workers=2\n",
    ")\n",
    "\n",
    "test_data_loader = torch.utils.data.DataLoader(\n",
    "    test_mnist_data,\n",
    "    batch_size=32,\n",
    "    shuffle=False,\n",
    "    num_workers=2\n",
    ")\n",
    "\n",
    "random_batch = next(iter(train_data_loader))\n",
    "_image, _label = random_batch[0][0], random_batch[1][0]\n",
    "plt.figure()\n",
    "plt.imshow(_image.reshape(28, 28))\n",
    "plt.title(f'Image label: {_label}')\n",
    "# __________end of block__________"
   ]
  },
  {
   "attachments": {},
   "cell_type": "markdown",
   "metadata": {},
   "source": [
    "Постройте модель ниже. Пожалуйста, не стройте переусложненную сеть, не стоит делать ее глубже четырех слоев (можно и меньше). Ваша основная задача – обучить модель и получить качество на отложенной (тестовой выборке) не менее 92% accuracy.\n",
    "\n",
    "*Комментарий: для этого достаточно линейных слоев и функций активации.*\n",
    "\n",
    "__Внимание, ваша модель должна быть представлена именно переменной `model`.__"
   ]
  },
  {
   "cell_type": "code",
   "execution_count": 3,
   "metadata": {},
   "outputs": [],
   "source": [
    "class MNISTClassifier(nn.Module):\n",
    "    def __init__(self):\n",
    "        super().__init__()\n",
    "        self.flatten = nn.Flatten()\n",
    "        self.linear_relu_stack = nn.Sequential(\n",
    "            nn.Linear(28 * 28, 512),\n",
    "            nn.ReLU(),\n",
    "            nn.Linear(512, 10)\n",
    "        )\n",
    "\n",
    "    def forward(self, x):\n",
    "        x = self.flatten(x)\n",
    "        logits = self.linear_relu_stack(x)\n",
    "        return logits\n",
    "    "
   ]
  },
  {
   "cell_type": "code",
   "execution_count": 4,
   "metadata": {},
   "outputs": [],
   "source": [
    "# Creating model instance\n",
    "model = MNISTClassifier() # your code here"
   ]
  },
  {
   "attachments": {},
   "cell_type": "markdown",
   "metadata": {},
   "source": [
    "Локальные тесты для проверки вашей модели доступны ниже:"
   ]
  },
  {
   "cell_type": "code",
   "execution_count": 5,
   "metadata": {},
   "outputs": [
    {
     "name": "stdout",
     "output_type": "stream",
     "text": [
      "Everything seems fine!\n"
     ]
    }
   ],
   "source": [
    "# do not change the code in the block below\n",
    "# __________start of block__________\n",
    "assert model is not None, 'Please, use `model` variable to store your model'\n",
    "\n",
    "try:\n",
    "    x = random_batch[0].reshape(-1, 784)\n",
    "    y = random_batch[1]\n",
    "\n",
    "    # compute outputs given inputs, both are variables\n",
    "    y_predicted = model(x)    \n",
    "except Exception as e:\n",
    "    print('Something is wrong with the model')\n",
    "    raise e\n",
    "    \n",
    "    \n",
    "assert y_predicted.shape[-1] == 10, 'Model should predict 10 logits/probas'\n",
    "\n",
    "print('Everything seems fine!')\n",
    "# __________end of block__________"
   ]
  },
  {
   "attachments": {},
   "cell_type": "markdown",
   "metadata": {},
   "source": [
    "Настройте параметры модели на обучающей выборке. Рекомендуем поработать с различными оптимизаторами."
   ]
  },
  {
   "cell_type": "code",
   "execution_count": 6,
   "metadata": {},
   "outputs": [],
   "source": [
    "# your code here\n",
    "\"\"\"\n",
    "parser = argparse.ArgumentParser(__doc__)\n",
    "parser.add_argument(\"--image\", type=str, help=\"Image to classify.\")\n",
    "parser.add_argument('--device', type=str, default='dml', help='The device to use for training.')\n",
    "parser.add_argument('--model', type=str, default='squeezenet1_0', help='The model to use.')\n",
    "args = parser.parse_args()\n",
    "print (args)\n",
    "\n",
    "device = torch_directml.device(torch_directml.default_device())\n",
    "\"\"\"\n",
    "device = (\n",
    "    \"cuda\"\n",
    "    if torch.cuda.is_available()\n",
    "    else \"cpu\"\n",
    ")\n",
    "loss_fn = nn.CrossEntropyLoss()\n",
    "optimizer = torch.optim.SGD(model.parameters(), lr=1e-2)\n",
    "\n",
    "def train(dataloader, model, loss_fn, optimizer):\n",
    "    size = len(dataloader.dataset)\n",
    "    model.train()\n",
    "    for batch, (X, y) in enumerate(dataloader):\n",
    "        X, y = X.to(device), y.to(device)\n",
    "\n",
    "        pred = model(X)\n",
    "        loss = loss_fn(pred, y)\n",
    "\n",
    "        loss.backward()\n",
    "        optimizer.step()\n",
    "        optimizer.zero_grad()\n",
    "\n",
    "        if batch % 100 == 0:\n",
    "            loss, current = loss.item(), (batch + 1) * len(X)\n",
    "            print(f'loss: {loss:>7f} [{current:>5d}/{size:>5d}]')\n",
    "\n",
    "def test(dataloader, model, loss_fn):\n",
    "    size = len(dataloader.dataset)\n",
    "    num_batches = len(dataloader)\n",
    "    model.eval()\n",
    "    test_loss, correct = 0, 0\n",
    "    with torch.no_grad():\n",
    "        for X, y in dataloader:\n",
    "            X, y = X.to(device), y.to(device)\n",
    "            pred = model(X)\n",
    "            test_loss += loss_fn(pred, y).item()\n",
    "            correct += (pred.argmax(1) == y).type(torch.float).sum().item()\n",
    "    test_loss /= num_batches\n",
    "    correct /= size\n",
    "    print(f'Test Error: \\n Accuracy: {(100 * correct):>0.1f}%, Avg loss: {test_loss:>8f} \\n')"
   ]
  },
  {
   "cell_type": "code",
   "execution_count": 7,
   "metadata": {},
   "outputs": [
    {
     "name": "stdout",
     "output_type": "stream",
     "text": [
      "Epoch 1\n",
      "-------------------------------\n",
      "loss: 2.281278 [   32/60000]\n",
      "loss: 2.024430 [ 3232/60000]\n",
      "loss: 1.722945 [ 6432/60000]\n",
      "loss: 1.525511 [ 9632/60000]\n",
      "loss: 1.262764 [12832/60000]\n",
      "loss: 0.894382 [16032/60000]\n",
      "loss: 0.865290 [19232/60000]\n",
      "loss: 0.756024 [22432/60000]\n",
      "loss: 0.419715 [25632/60000]\n",
      "loss: 0.478304 [28832/60000]\n",
      "loss: 0.542875 [32032/60000]\n",
      "loss: 0.273117 [35232/60000]\n",
      "loss: 0.814073 [38432/60000]\n",
      "loss: 0.685040 [41632/60000]\n",
      "loss: 0.626642 [44832/60000]\n",
      "loss: 0.709482 [48032/60000]\n",
      "loss: 0.320768 [51232/60000]\n",
      "loss: 0.341937 [54432/60000]\n",
      "loss: 0.576670 [57632/60000]\n",
      "Test Error: \n",
      " Accuracy: 88.9%, Avg loss: 0.415321 \n",
      "\n",
      "Epoch 2\n",
      "-------------------------------\n",
      "loss: 0.364633 [   32/60000]\n",
      "loss: 0.228416 [ 3232/60000]\n",
      "loss: 0.372986 [ 6432/60000]\n",
      "loss: 0.426844 [ 9632/60000]\n",
      "loss: 0.203570 [12832/60000]\n",
      "loss: 0.520586 [16032/60000]\n",
      "loss: 0.301315 [19232/60000]\n",
      "loss: 0.282581 [22432/60000]\n",
      "loss: 0.353602 [25632/60000]\n",
      "loss: 0.370581 [28832/60000]\n",
      "loss: 0.311920 [32032/60000]\n",
      "loss: 0.466609 [35232/60000]\n",
      "loss: 0.339239 [38432/60000]\n",
      "loss: 0.452785 [41632/60000]\n",
      "loss: 0.213049 [44832/60000]\n",
      "loss: 0.722849 [48032/60000]\n",
      "loss: 0.127884 [51232/60000]\n",
      "loss: 0.284025 [54432/60000]\n",
      "loss: 0.386386 [57632/60000]\n",
      "Test Error: \n",
      " Accuracy: 90.8%, Avg loss: 0.330347 \n",
      "\n",
      "Epoch 3\n",
      "-------------------------------\n",
      "loss: 0.416076 [   32/60000]\n",
      "loss: 0.151550 [ 3232/60000]\n",
      "loss: 0.239018 [ 6432/60000]\n",
      "loss: 0.213192 [ 9632/60000]\n",
      "loss: 0.582086 [12832/60000]\n",
      "loss: 0.201087 [16032/60000]\n",
      "loss: 0.257045 [19232/60000]\n",
      "loss: 0.268855 [22432/60000]\n",
      "loss: 0.452080 [25632/60000]\n",
      "loss: 0.337481 [28832/60000]\n",
      "loss: 0.108600 [32032/60000]\n",
      "loss: 0.785653 [35232/60000]\n",
      "loss: 0.321530 [38432/60000]\n",
      "loss: 0.435169 [41632/60000]\n",
      "loss: 0.120267 [44832/60000]\n",
      "loss: 0.267554 [48032/60000]\n",
      "loss: 0.633723 [51232/60000]\n",
      "loss: 0.246795 [54432/60000]\n",
      "loss: 0.328560 [57632/60000]\n",
      "Test Error: \n",
      " Accuracy: 91.8%, Avg loss: 0.292808 \n",
      "\n",
      "Epoch 4\n",
      "-------------------------------\n",
      "loss: 0.279241 [   32/60000]\n",
      "loss: 0.407041 [ 3232/60000]\n",
      "loss: 0.496702 [ 6432/60000]\n",
      "loss: 0.476219 [ 9632/60000]\n",
      "loss: 0.405035 [12832/60000]\n",
      "loss: 0.309197 [16032/60000]\n",
      "loss: 0.149126 [19232/60000]\n",
      "loss: 0.338314 [22432/60000]\n",
      "loss: 0.250150 [25632/60000]\n",
      "loss: 0.192369 [28832/60000]\n",
      "loss: 0.591450 [32032/60000]\n",
      "loss: 0.492348 [35232/60000]\n",
      "loss: 0.457445 [38432/60000]\n",
      "loss: 0.222816 [41632/60000]\n",
      "loss: 0.241957 [44832/60000]\n",
      "loss: 0.124549 [48032/60000]\n",
      "loss: 0.098023 [51232/60000]\n",
      "loss: 0.023354 [54432/60000]\n",
      "loss: 0.231018 [57632/60000]\n",
      "Test Error: \n",
      " Accuracy: 92.6%, Avg loss: 0.263649 \n",
      "\n",
      "Epoch 5\n",
      "-------------------------------\n",
      "loss: 0.234109 [   32/60000]\n",
      "loss: 0.393789 [ 3232/60000]\n",
      "loss: 0.093111 [ 6432/60000]\n",
      "loss: 0.382193 [ 9632/60000]\n",
      "loss: 0.338471 [12832/60000]\n",
      "loss: 0.272598 [16032/60000]\n",
      "loss: 0.125255 [19232/60000]\n",
      "loss: 0.505984 [22432/60000]\n",
      "loss: 0.329378 [25632/60000]\n",
      "loss: 0.336211 [28832/60000]\n",
      "loss: 0.242816 [32032/60000]\n",
      "loss: 0.253608 [35232/60000]\n",
      "loss: 0.227506 [38432/60000]\n",
      "loss: 0.161595 [41632/60000]\n",
      "loss: 0.254505 [44832/60000]\n",
      "loss: 0.105085 [48032/60000]\n",
      "loss: 0.376054 [51232/60000]\n",
      "loss: 0.352303 [54432/60000]\n",
      "loss: 0.173673 [57632/60000]\n",
      "Test Error: \n",
      " Accuracy: 93.1%, Avg loss: 0.243177 \n",
      "\n",
      "Done!\n"
     ]
    }
   ],
   "source": [
    "epochs = 5\n",
    "for t in range(epochs):\n",
    "    print(f\"Epoch {t+1}\\n-------------------------------\")\n",
    "    train(train_data_loader, model, loss_fn, optimizer)\n",
    "    test(train_data_loader, model, loss_fn)\n",
    "print('Done!')\n",
    "    "
   ]
  },
  {
   "attachments": {},
   "cell_type": "markdown",
   "metadata": {},
   "source": [
    "Также, напоминаем, что в любой момент можно обратиться к замечательной [документации](https://pytorch.org/docs/stable/index.html) и [обучающим примерам](https://pytorch.org/tutorials/).  "
   ]
  },
  {
   "attachments": {},
   "cell_type": "markdown",
   "metadata": {},
   "source": [
    "Оценим качество классификации:"
   ]
  },
  {
   "cell_type": "code",
   "execution_count": 105,
   "metadata": {},
   "outputs": [],
   "source": [
    "predicted_labels = []\n",
    "real_labels = []\n",
    "model.eval()\n",
    "with torch.no_grad():\n",
    "    for batch in train_data_loader:\n",
    "        y_predicted = model(batch[0].reshape(-1, 784))\n",
    "        predicted_labels.append(y_predicted.argmax(dim=1))\n",
    "        real_labels.append(batch[1])\n",
    "\n",
    "predicted_labels = torch.cat(predicted_labels)\n",
    "real_labels = torch.cat(real_labels)\n",
    "train_acc = (predicted_labels == real_labels).type(torch.FloatTensor).mean()"
   ]
  },
  {
   "cell_type": "code",
   "execution_count": 106,
   "metadata": {},
   "outputs": [
    {
     "name": "stdout",
     "output_type": "stream",
     "text": [
      "Neural network accuracy on train set: 0.93235\n"
     ]
    }
   ],
   "source": [
    "print(f'Neural network accuracy on train set: {train_acc:3.5}')"
   ]
  },
  {
   "cell_type": "code",
   "execution_count": 107,
   "metadata": {},
   "outputs": [],
   "source": [
    "predicted_labels = []\n",
    "real_labels = []\n",
    "model.eval()\n",
    "with torch.no_grad():\n",
    "    for batch in test_data_loader:\n",
    "        y_predicted = model(batch[0].reshape(-1, 784))\n",
    "        predicted_labels.append(y_predicted.argmax(dim=1))\n",
    "        real_labels.append(batch[1])\n",
    "\n",
    "predicted_labels = torch.cat(predicted_labels)\n",
    "real_labels = torch.cat(real_labels)\n",
    "test_acc = (predicted_labels == real_labels).type(torch.FloatTensor).mean()"
   ]
  },
  {
   "cell_type": "code",
   "execution_count": 109,
   "metadata": {},
   "outputs": [
    {
     "name": "stdout",
     "output_type": "stream",
     "text": [
      "Neural network accuracy on test set: 0.9331\n"
     ]
    }
   ],
   "source": [
    "print(f'Neural network accuracy on test set: {test_acc:3.5}')"
   ]
  },
  {
   "attachments": {},
   "cell_type": "markdown",
   "metadata": {},
   "source": [
    "Проверка, что необходимые пороги пройдены:"
   ]
  },
  {
   "cell_type": "code",
   "execution_count": 110,
   "metadata": {},
   "outputs": [],
   "source": [
    "assert test_acc >= 0.92, 'Test accuracy is below 0.92 threshold'\n",
    "assert train_acc >= 0.91, 'Train accuracy is below 0.91 while test accuracy is fine. We recommend to check your model and data flow'"
   ]
  },
  {
   "attachments": {},
   "cell_type": "markdown",
   "metadata": {},
   "source": [
    "### Сдача задания\n",
    "Загрузите файл `hw07_data_dict.npy` (ссылка есть на странице с заданием) и запустите код ниже для генерации посылки. Код ниже может его загрузить (но в случае возникновения ошибки скачайте и загрузите его вручную)."
   ]
  },
  {
   "cell_type": "code",
   "execution_count": null,
   "metadata": {},
   "outputs": [],
   "source": [
    "!wget https://raw.githubusercontent.com/girafe-ai/ml-course/23s_dd_ml/homeworks/hw07_mnist_classification/hw07_data_dict.npy"
   ]
  },
  {
   "cell_type": "code",
   "execution_count": 111,
   "metadata": {},
   "outputs": [
    {
     "name": "stdout",
     "output_type": "stream",
     "text": [
      "File saved to `submission_dict_hw07.npy`\n"
     ]
    }
   ],
   "source": [
    "# do not change the code in the block below\n",
    "# __________start of block__________\n",
    "import os\n",
    "\n",
    "assert os.path.exists('hw07_data_dict.npy'), 'Please, download `hw07_data_dict.npy` and place it in the working directory'\n",
    "\n",
    "def get_predictions(model, eval_data, step=10):\n",
    "    \n",
    "    predicted_labels = []\n",
    "    model.eval()\n",
    "    with torch.no_grad():\n",
    "        for idx in range(0, len(eval_data), step):\n",
    "            y_predicted = model(eval_data[idx:idx+step].reshape(-1, 784))\n",
    "            predicted_labels.append(y_predicted.argmax(dim=1))\n",
    "    \n",
    "    predicted_labels = torch.cat(predicted_labels)\n",
    "    return predicted_labels\n",
    "\n",
    "loaded_data_dict = np.load('hw07_data_dict.npy', allow_pickle=True)\n",
    "\n",
    "submission_dict = {\n",
    "    'train': get_predictions(model, torch.FloatTensor(loaded_data_dict.item()['train'])).numpy(),\n",
    "    'test': get_predictions(model, torch.FloatTensor(loaded_data_dict.item()['test'])).numpy()\n",
    "}\n",
    "\n",
    "np.save('submission_dict_hw07.npy', submission_dict, allow_pickle=True)\n",
    "print('File saved to `submission_dict_hw07.npy`')\n",
    "# __________end of block__________"
   ]
  },
  {
   "attachments": {},
   "cell_type": "markdown",
   "metadata": {},
   "source": [
    "На этом задание завершено. Поздравляем!"
   ]
  }
 ],
 "metadata": {
  "kernelspec": {
   "display_name": "Python 3",
   "language": "python",
   "name": "python3"
  },
  "language_info": {
   "codemirror_mode": {
    "name": "ipython",
    "version": 3
   },
   "file_extension": ".py",
   "mimetype": "text/x-python",
   "name": "python",
   "nbconvert_exporter": "python",
   "pygments_lexer": "ipython3",
   "version": "3.10.11"
  }
 },
 "nbformat": 4,
 "nbformat_minor": 4
}
